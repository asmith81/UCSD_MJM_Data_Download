{
 "cells": [
  {
   "cell_type": "markdown",
   "metadata": {},
   "source": [
    "This notebook runs the python helper script fromt the src file that downloads all the images to the data/images path.\n",
    "\n",
    "This execution requires Google OAuth permissions saved in the root directory named 'gdrive_oauth.json'"
   ]
  },
  {
   "cell_type": "code",
   "execution_count": null,
   "metadata": {},
   "outputs": [
    {
     "ename": "ModuleNotFoundError",
     "evalue": "No module named 'google'",
     "output_type": "error",
     "traceback": [
      "\u001b[1;31m---------------------------------------------------------------------------\u001b[0m",
      "\u001b[1;31mModuleNotFoundError\u001b[0m                       Traceback (most recent call last)",
      "Cell \u001b[1;32mIn[1], line 9\u001b[0m\n\u001b[0;32m      6\u001b[0m sys\u001b[38;5;241m.\u001b[39mpath\u001b[38;5;241m.\u001b[39minsert(\u001b[38;5;241m0\u001b[39m, project_root)\n\u001b[0;32m      8\u001b[0m \u001b[38;5;66;03m# Now import\u001b[39;00m\n\u001b[1;32m----> 9\u001b[0m \u001b[38;5;28;01mfrom\u001b[39;00m \u001b[38;5;21;01msrc\u001b[39;00m \u001b[38;5;28;01mimport\u001b[39;00m download_images\n\u001b[0;32m     10\u001b[0m \u001b[38;5;28;01mfrom\u001b[39;00m \u001b[38;5;21;01msrc\u001b[39;00m\u001b[38;5;21;01m.\u001b[39;00m\u001b[38;5;21;01mdownload_images\u001b[39;00m \u001b[38;5;28;01mimport\u001b[39;00m download_files_from_sheet\n\u001b[0;32m     13\u001b[0m CREDENTIALS_PATH \u001b[38;5;241m=\u001b[39m \u001b[38;5;124mr\u001b[39m\u001b[38;5;124m'\u001b[39m\u001b[38;5;124mD:\u001b[39m\u001b[38;5;124m\\\u001b[39m\u001b[38;5;124mUCSD_MJM_Capstone\u001b[39m\u001b[38;5;124m\\\u001b[39m\u001b[38;5;124mgdrive_oauth.json\u001b[39m\u001b[38;5;124m'\u001b[39m\n",
      "File \u001b[1;32mD:\\UCSD_MJM_Capstone\\src\\download_images.py:1\u001b[0m\n\u001b[1;32m----> 1\u001b[0m \u001b[38;5;28;01mfrom\u001b[39;00m \u001b[38;5;21;01mgoogle\u001b[39;00m\u001b[38;5;21;01m.\u001b[39;00m\u001b[38;5;21;01moauth2\u001b[39;00m\u001b[38;5;21;01m.\u001b[39;00m\u001b[38;5;21;01mcredentials\u001b[39;00m \u001b[38;5;28;01mimport\u001b[39;00m Credentials\n\u001b[0;32m      2\u001b[0m \u001b[38;5;28;01mfrom\u001b[39;00m \u001b[38;5;21;01mgoogle_auth_oauthlib\u001b[39;00m\u001b[38;5;21;01m.\u001b[39;00m\u001b[38;5;21;01mflow\u001b[39;00m \u001b[38;5;28;01mimport\u001b[39;00m InstalledAppFlow\n\u001b[0;32m      3\u001b[0m \u001b[38;5;28;01mfrom\u001b[39;00m \u001b[38;5;21;01mgoogleapiclient\u001b[39;00m\u001b[38;5;21;01m.\u001b[39;00m\u001b[38;5;21;01mdiscovery\u001b[39;00m \u001b[38;5;28;01mimport\u001b[39;00m build\n",
      "\u001b[1;31mModuleNotFoundError\u001b[0m: No module named 'google'"
     ]
    }
   ],
   "source": [
    "import sys\n",
    "import os\n",
    "\n",
    "# Explicitly set the project root\n",
    "project_root = r'D:\\UCSD_MJM_Capstone'\n",
    "sys.path.insert(0, project_root)\n",
    "\n",
    "# Now import\n",
    "from src import download_images\n",
    "from src.download_images import download_files_from_sheet\n",
    "\n",
    "    \n",
    "CREDENTIALS_PATH = r'D:\\UCSD_MJM_Data_Download\\gdrive_oauth.json'\n",
    "SPREADSHEET_ID = r'1gdjS8gaGFaQs6J09yv7SeiYKy6ZdOLnXoZfIrQQpGoY'\n",
    "SHEET_NAME = r'Estimates/Invoices'\n",
    "URL_COLUMN_INDEX = 7  # For column H\n",
    "DOWNLOAD_DIR = r'D:\\UCSD_MJM_Data_Download\\data\\images'\n",
    "    \n",
    "download_files_from_sheet(\n",
    "    CREDENTIALS_PATH, \n",
    "    SPREADSHEET_ID, \n",
    "    SHEET_NAME, \n",
    "    URL_COLUMN_INDEX,\n",
    "    DOWNLOAD_DIR,\n",
    "    dpi=300,  # Adjust DPI for PDF conversion\n",
    "    quality=95  # Adjust JPEG quality\n",
    ")"
   ]
  }
 ],
 "metadata": {
  "kernelspec": {
   "display_name": ".venv",
   "language": "python",
   "name": "python3"
  },
  "language_info": {
   "codemirror_mode": {
    "name": "ipython",
    "version": 3
   },
   "file_extension": ".py",
   "mimetype": "text/x-python",
   "name": "python",
   "nbconvert_exporter": "python",
   "pygments_lexer": "ipython3",
   "version": "3.11.8"
  }
 },
 "nbformat": 4,
 "nbformat_minor": 2
}
